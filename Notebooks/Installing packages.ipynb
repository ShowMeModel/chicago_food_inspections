{
 "cells": [
  {
   "cell_type": "code",
   "execution_count": null,
   "metadata": {},
   "outputs": [],
   "source": [
    "## Installing"
   ]
  },
  {
   "cell_type": "code",
   "execution_count": null,
   "metadata": {},
   "outputs": [],
   "source": []
  },
  {
   "cell_type": "code",
   "execution_count": 1,
   "metadata": {},
   "outputs": [],
   "source": [
    "## Updating"
   ]
  },
  {
   "cell_type": "code",
   "execution_count": 3,
   "metadata": {},
   "outputs": [
    {
     "name": "stdout",
     "output_type": "stream",
     "text": [
      "Collecting numpy\n",
      "\u001b[?25l  Downloading https://files.pythonhosted.org/packages/60/9a/a6b3168f2194fb468dcc4cf54c8344d1f514935006c3347ede198e968cb0/numpy-1.17.4-cp37-cp37m-macosx_10_9_x86_64.whl (15.1MB)\n",
      "\u001b[K     |████████████████████████████████| 15.1MB 943kB/s eta 0:00:01\n",
      "\u001b[?25hInstalling collected packages: numpy\n",
      "  Found existing installation: numpy 1.17.2\n",
      "    Uninstalling numpy-1.17.2:\n",
      "      Successfully uninstalled numpy-1.17.2\n",
      "Successfully installed numpy-1.17.4\n",
      "\u001b[33mWARNING: You are using pip version 19.2.3, however version 19.3.1 is available.\n",
      "You should consider upgrading via the 'pip install --upgrade pip' command.\u001b[0m\n"
     ]
    }
   ],
   "source": [
    "!pip install -U numpy"
   ]
  },
  {
   "cell_type": "code",
   "execution_count": 4,
   "metadata": {},
   "outputs": [
    {
     "name": "stdout",
     "output_type": "stream",
     "text": [
      "Collecting pandas\n",
      "\u001b[?25l  Downloading https://files.pythonhosted.org/packages/16/b5/bab3477466a4d9e705d40829ac65683155e7977acbc07f05b06fabded1be/pandas-0.25.3-cp37-cp37m-macosx_10_9_x86_64.whl (10.2MB)\n",
      "\u001b[K     |████████████████████████████████| 10.2MB 1.2MB/s eta 0:00:01\n",
      "\u001b[?25hRequirement already satisfied, skipping upgrade: pytz>=2017.2 in /Users/oskar/Notebooks/lib/python3.7/site-packages (from pandas) (2019.2)\n",
      "Requirement already satisfied, skipping upgrade: numpy>=1.13.3 in /Users/oskar/Notebooks/lib/python3.7/site-packages (from pandas) (1.17.4)\n",
      "Requirement already satisfied, skipping upgrade: python-dateutil>=2.6.1 in /Users/oskar/Notebooks/lib/python3.7/site-packages (from pandas) (2.8.0)\n",
      "Requirement already satisfied, skipping upgrade: six>=1.5 in /Users/oskar/Notebooks/lib/python3.7/site-packages (from python-dateutil>=2.6.1->pandas) (1.12.0)\n",
      "Installing collected packages: pandas\n",
      "  Found existing installation: pandas 0.25.1\n",
      "    Uninstalling pandas-0.25.1:\n",
      "      Successfully uninstalled pandas-0.25.1\n",
      "Successfully installed pandas-0.25.3\n",
      "\u001b[33mWARNING: You are using pip version 19.2.3, however version 19.3.1 is available.\n",
      "You should consider upgrading via the 'pip install --upgrade pip' command.\u001b[0m\n"
     ]
    }
   ],
   "source": [
    "!pip install -U pandas"
   ]
  },
  {
   "cell_type": "code",
   "execution_count": 5,
   "metadata": {},
   "outputs": [
    {
     "name": "stdout",
     "output_type": "stream",
     "text": [
      "Collecting dask[complete]\n",
      "\u001b[?25l  Downloading https://files.pythonhosted.org/packages/16/c6/d833bb656823031161f7fa085050dafc0f11949334a3c34d4a9392c54f46/dask-2.8.0-py3-none-any.whl (767kB)\n",
      "\u001b[K     |████████████████████████████████| 768kB 1.2MB/s eta 0:00:01\n",
      "\u001b[?25hRequirement already satisfied, skipping upgrade: toolz>=0.7.3; extra == \"complete\" in /Users/oskar/Notebooks/lib/python3.7/site-packages (from dask[complete]) (0.10.0)\n",
      "Requirement already satisfied, skipping upgrade: pandas>=0.21.0; extra == \"complete\" in /Users/oskar/Notebooks/lib/python3.7/site-packages (from dask[complete]) (0.25.3)\n",
      "Requirement already satisfied, skipping upgrade: partd>=0.3.10; extra == \"complete\" in /Users/oskar/Notebooks/lib/python3.7/site-packages (from dask[complete]) (1.0.0)\n",
      "Requirement already satisfied, skipping upgrade: bokeh>=1.0.0; extra == \"complete\" in /Users/oskar/Notebooks/lib/python3.7/site-packages (from dask[complete]) (1.3.4)\n",
      "Requirement already satisfied, skipping upgrade: numpy>=1.13.0; extra == \"complete\" in /Users/oskar/Notebooks/lib/python3.7/site-packages (from dask[complete]) (1.17.4)\n",
      "Requirement already satisfied, skipping upgrade: cloudpickle>=0.2.1; extra == \"complete\" in /Users/oskar/Notebooks/lib/python3.7/site-packages (from dask[complete]) (1.2.2)\n",
      "Collecting fsspec>=0.6.0; extra == \"complete\" (from dask[complete])\n",
      "\u001b[?25l  Downloading https://files.pythonhosted.org/packages/4f/d9/40c970ef234cd3054c9cd6c087b92f24ea5b1209c87dcb931e28a72dbc29/fsspec-0.6.0-py3-none-any.whl (61kB)\n",
      "\u001b[K     |████████████████████████████████| 71kB 11.1MB/s eta 0:00:01\n",
      "\u001b[?25hRequirement already satisfied, skipping upgrade: distributed>=2.0; extra == \"complete\" in /Users/oskar/Notebooks/lib/python3.7/site-packages (from dask[complete]) (2.4.0)\n",
      "Requirement already satisfied, skipping upgrade: PyYaml; extra == \"complete\" in /Users/oskar/Notebooks/lib/python3.7/site-packages (from dask[complete]) (5.1.2)\n",
      "Requirement already satisfied, skipping upgrade: python-dateutil>=2.6.1 in /Users/oskar/Notebooks/lib/python3.7/site-packages (from pandas>=0.21.0; extra == \"complete\"->dask[complete]) (2.8.0)\n",
      "Requirement already satisfied, skipping upgrade: pytz>=2017.2 in /Users/oskar/Notebooks/lib/python3.7/site-packages (from pandas>=0.21.0; extra == \"complete\"->dask[complete]) (2019.2)\n",
      "Requirement already satisfied, skipping upgrade: locket in /Users/oskar/Notebooks/lib/python3.7/site-packages (from partd>=0.3.10; extra == \"complete\"->dask[complete]) (0.2.0)\n",
      "Requirement already satisfied, skipping upgrade: tornado>=4.3 in /Users/oskar/Notebooks/lib/python3.7/site-packages (from bokeh>=1.0.0; extra == \"complete\"->dask[complete]) (6.0.3)\n",
      "Requirement already satisfied, skipping upgrade: Jinja2>=2.7 in /Users/oskar/Notebooks/lib/python3.7/site-packages (from bokeh>=1.0.0; extra == \"complete\"->dask[complete]) (2.10.1)\n",
      "Requirement already satisfied, skipping upgrade: packaging>=16.8 in /Users/oskar/Notebooks/lib/python3.7/site-packages (from bokeh>=1.0.0; extra == \"complete\"->dask[complete]) (19.1)\n",
      "Requirement already satisfied, skipping upgrade: six>=1.5.2 in /Users/oskar/Notebooks/lib/python3.7/site-packages (from bokeh>=1.0.0; extra == \"complete\"->dask[complete]) (1.12.0)\n",
      "Requirement already satisfied, skipping upgrade: pillow>=4.0 in /Users/oskar/Notebooks/lib/python3.7/site-packages (from bokeh>=1.0.0; extra == \"complete\"->dask[complete]) (6.1.0)\n",
      "Requirement already satisfied, skipping upgrade: msgpack in /Users/oskar/Notebooks/lib/python3.7/site-packages (from distributed>=2.0; extra == \"complete\"->dask[complete]) (0.6.1)\n",
      "Requirement already satisfied, skipping upgrade: tblib in /Users/oskar/Notebooks/lib/python3.7/site-packages (from distributed>=2.0; extra == \"complete\"->dask[complete]) (1.4.0)\n",
      "Requirement already satisfied, skipping upgrade: sortedcontainers!=2.0.0,!=2.0.1 in /Users/oskar/Notebooks/lib/python3.7/site-packages (from distributed>=2.0; extra == \"complete\"->dask[complete]) (2.1.0)\n",
      "Requirement already satisfied, skipping upgrade: zict>=0.1.3 in /Users/oskar/Notebooks/lib/python3.7/site-packages (from distributed>=2.0; extra == \"complete\"->dask[complete]) (1.0.0)\n",
      "Requirement already satisfied, skipping upgrade: psutil>=5.0 in /Users/oskar/Notebooks/lib/python3.7/site-packages (from distributed>=2.0; extra == \"complete\"->dask[complete]) (5.6.3)\n",
      "Requirement already satisfied, skipping upgrade: click>=6.6 in /Users/oskar/Notebooks/lib/python3.7/site-packages (from distributed>=2.0; extra == \"complete\"->dask[complete]) (7.0)\n",
      "Requirement already satisfied, skipping upgrade: MarkupSafe>=0.23 in /Users/oskar/Notebooks/lib/python3.7/site-packages (from Jinja2>=2.7->bokeh>=1.0.0; extra == \"complete\"->dask[complete]) (1.1.1)\n",
      "Requirement already satisfied, skipping upgrade: attrs in /Users/oskar/Notebooks/lib/python3.7/site-packages (from packaging>=16.8->bokeh>=1.0.0; extra == \"complete\"->dask[complete]) (19.1.0)\n",
      "Requirement already satisfied, skipping upgrade: pyparsing>=2.0.2 in /Users/oskar/Notebooks/lib/python3.7/site-packages (from packaging>=16.8->bokeh>=1.0.0; extra == \"complete\"->dask[complete]) (2.4.2)\n",
      "Requirement already satisfied, skipping upgrade: heapdict in /Users/oskar/Notebooks/lib/python3.7/site-packages (from zict>=0.1.3->distributed>=2.0; extra == \"complete\"->dask[complete]) (1.0.1)\n",
      "Installing collected packages: fsspec, dask\n",
      "  Found existing installation: fsspec 0.4.4\n",
      "    Uninstalling fsspec-0.4.4:\n",
      "      Successfully uninstalled fsspec-0.4.4\n",
      "  Found existing installation: dask 2.4.0\n",
      "    Uninstalling dask-2.4.0:\n",
      "      Successfully uninstalled dask-2.4.0\n",
      "Successfully installed dask-2.8.0 fsspec-0.6.0\n",
      "\u001b[33mWARNING: You are using pip version 19.2.3, however version 19.3.1 is available.\n",
      "You should consider upgrading via the 'pip install --upgrade pip' command.\u001b[0m\n"
     ]
    }
   ],
   "source": [
    "!pip install -U \"dask[complete]\" "
   ]
  },
  {
   "cell_type": "code",
   "execution_count": null,
   "metadata": {},
   "outputs": [],
   "source": []
  }
 ],
 "metadata": {
  "kernelspec": {
   "display_name": "Python 3",
   "language": "python",
   "name": "python3"
  },
  "language_info": {
   "codemirror_mode": {
    "name": "ipython",
    "version": 3
   },
   "file_extension": ".py",
   "mimetype": "text/x-python",
   "name": "python",
   "nbconvert_exporter": "python",
   "pygments_lexer": "ipython3",
   "version": "3.7.0"
  }
 },
 "nbformat": 4,
 "nbformat_minor": 2
}
