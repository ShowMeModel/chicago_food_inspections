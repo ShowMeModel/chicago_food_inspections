{
 "cells": [
  {
   "cell_type": "code",
   "execution_count": null,
   "metadata": {},
   "outputs": [],
   "source": [
    "## Installing"
   ]
  },
  {
   "cell_type": "code",
   "execution_count": 10,
   "metadata": {},
   "outputs": [
    {
     "name": "stdout",
     "output_type": "stream",
     "text": [
      "Collecting dedupe\n",
      "  Using cached https://files.pythonhosted.org/packages/0f/4c/5b05727c689e04adf01d09392af49ad3e90b608bbdb091bad7323f8aad7e/dedupe-1.9.9-cp36-cp36m-manylinux1_x86_64.whl\n",
      "Collecting affinegap>=1.3 (from dedupe)\n",
      "  Using cached https://files.pythonhosted.org/packages/bf/d1/5ee277dc9d895bc44d34378d81db9e1499b1c46a6248b6bc0a206100f393/affinegap-1.10-cp36-cp36m-manylinux1_x86_64.whl\n",
      "Collecting dedupe-variable-datetime (from dedupe)\n",
      "  Using cached https://files.pythonhosted.org/packages/65/8f/d21f6acadcdfd681ee038153883b5673b8b76f790e465d791780e6b7bf60/dedupe_variable_datetime-0.1.5-py3-none-any.whl\n",
      "Requirement already satisfied: future>=0.14 in /home/oskar/.local/lib/python3.6/site-packages (from dedupe) (0.16.0)\n",
      "Collecting dedupe-hcluster (from dedupe)\n",
      "  Using cached https://files.pythonhosted.org/packages/17/8e/2ca70d51cf8a5727ded01f91fe2981c2d8345ca79efae0f2f3374627c9f2/dedupe_hcluster-0.3.6-cp36-cp36m-manylinux1_x86_64.whl\n",
      "Collecting doublemetaphone (from dedupe)\n",
      "  Using cached https://files.pythonhosted.org/packages/c0/27/8df369334aac64755ca899b9a7cc4d2d60e800cca148322ef19309cdae0f/DoubleMetaphone-0.1-cp36-cp36m-manylinux1_x86_64.whl\n",
      "Collecting highered>=0.2.0 (from dedupe)\n",
      "  Using cached https://files.pythonhosted.org/packages/81/00/cbd902cfd14ad1992fcdaa11a615d47b36b6136dc690e19b0afa58c7365d/highered-0.2.1-py2.py3-none-any.whl\n",
      "Collecting simplecosine>=1.2 (from dedupe)\n",
      "  Using cached https://files.pythonhosted.org/packages/2d/22/6ea3a5ab8aea06d6563eb927e706f7342a00d1849c9be6143a2a7d84ddbd/simplecosine-1.2-py2.py3-none-any.whl\n",
      "Requirement already satisfied: numpy>=1.13 in /home/oskar/.local/lib/python3.6/site-packages (from dedupe) (1.17.4)\n",
      "Requirement already satisfied: simplejson in /home/oskar/.local/lib/python3.6/site-packages (from dedupe) (3.16.0)\n",
      "Collecting fastcluster (from dedupe)\n",
      "  Using cached https://files.pythonhosted.org/packages/77/fc/19660c0d866840b65032df2263b4a04ad3e4ab9aaaf2a2d07fdbf990ffb1/fastcluster-1.1.25-cp36-cp36m-manylinux1_x86_64.whl\n",
      "Collecting Levenshtein-search (from dedupe)\n",
      "  Using cached https://files.pythonhosted.org/packages/ca/7f/bb8af76b5617364d2c976e32aad4d8adbc3b0d2aecc21c178909fac25663/Levenshtein_search-1.4.4-cp36-cp36m-manylinux1_x86_64.whl\n",
      "Collecting categorical-distance>=1.9 (from dedupe)\n",
      "  Using cached https://files.pythonhosted.org/packages/1d/b7/4f97771f52c63916f4e4d349a644c2387961592e76070e7310463b2d70a5/categorical_distance-1.9-py3-none-any.whl\n",
      "Collecting haversine>=0.4.1 (from dedupe)\n",
      "  Using cached https://files.pythonhosted.org/packages/d7/26/78d4fadc73b7e4c3543f9d5401892cb9a3f4202be789984826033922ec5a/haversine-2.1.2-py2.py3-none-any.whl\n",
      "Collecting BTrees>=4.1.4 (from dedupe)\n",
      "  Using cached https://files.pythonhosted.org/packages/bb/19/8375affcb008638d6762981f9947ae0812cce15558efd9dcfd450ee0345b/BTrees-4.6.1-cp36-cp36m-manylinux1_x86_64.whl\n",
      "Collecting zope.index (from dedupe)\n",
      "  Using cached https://files.pythonhosted.org/packages/ab/0f/f93bddfac1189bb6b973142da3ef2caa6817a59b07ca448095a30b644737/zope.index-5.0.0-cp36-cp36m-manylinux1_x86_64.whl\n",
      "Collecting rlr>=2.4.3 (from dedupe)\n",
      "  Using cached https://files.pythonhosted.org/packages/fa/02/3b1a9727a622ff4320919645ce35ceb887d90784d0bab41484756c33b7ea/rlr-2.4.5-py2.py3-none-any.whl\n",
      "Collecting datetime-distance (from dedupe-variable-datetime->dedupe)\n",
      "  Using cached https://files.pythonhosted.org/packages/6b/98/a5eff9256ff27e3bb8030466dabd772002e5014b9237cbeb18c542050ff5/datetime_distance-0.1.3-py3-none-any.whl\n",
      "Collecting pyhacrf-datamade>=0.2.0 (from highered>=0.2.0->dedupe)\n",
      "  Using cached https://files.pythonhosted.org/packages/71/cc/6f4bfb9297adc18f9416a79a6dcffe88066369a8022caa4a886dc4d0af6f/pyhacrf_datamade-0.2.3-cp36-cp36m-manylinux1_x86_64.whl\n",
      "Requirement already satisfied: zope.interface in /home/oskar/.local/lib/python3.6/site-packages (from BTrees>=4.1.4->dedupe) (4.5.0)\n",
      "Collecting persistent>=4.1.0 (from BTrees>=4.1.4->dedupe)\n",
      "Requirement already satisfied: setuptools in /home/oskar/.local/lib/python3.6/site-packages (from zope.index->dedupe) (40.0.0)\n",
      "Requirement already satisfied: six in /home/oskar/.local/lib/python3.6/site-packages (from zope.index->dedupe) (1.11.0)\n",
      "Collecting pylbfgs (from rlr>=2.4.3->dedupe)\n",
      "  Using cached https://files.pythonhosted.org/packages/0d/3b/3f490e1a9da9e4fc49a61e984a327eb3b907ef86d5ed67cf14e16a8519ea/PyLBFGS-0.2.0.12-cp36-cp36m-manylinux1_x86_64.whl\n",
      "Requirement already satisfied: python-dateutil>=2.6.0 in /home/oskar/.local/lib/python3.6/site-packages (from datetime-distance->dedupe-variable-datetime->dedupe) (2.7.3)\n",
      "Collecting cffi; platform_python_implementation == \"CPython\" (from persistent>=4.1.0->BTrees>=4.1.4->dedupe)\n",
      "  Using cached https://files.pythonhosted.org/packages/49/72/0d42f94fe94afa8030350c26e9d787219f3f008ec9bf6b86c66532b29236/cffi-1.13.2-cp36-cp36m-manylinux1_x86_64.whl\n",
      "Collecting pycparser (from cffi; platform_python_implementation == \"CPython\"->persistent>=4.1.0->BTrees>=4.1.4->dedupe)\n",
      "Installing collected packages: affinegap, datetime-distance, dedupe-variable-datetime, dedupe-hcluster, doublemetaphone, pylbfgs, pyhacrf-datamade, highered, simplecosine, fastcluster, Levenshtein-search, categorical-distance, haversine, pycparser, cffi, persistent, BTrees, zope.index, rlr, dedupe\n",
      "Successfully installed BTrees-4.6.1 Levenshtein-search-1.4.4 affinegap-1.10 categorical-distance-1.9 cffi-1.13.2 datetime-distance-0.1.3 dedupe-1.9.9 dedupe-hcluster-0.3.6 dedupe-variable-datetime-0.1.5 doublemetaphone-0.1 fastcluster-1.1.25 haversine-2.1.2 highered-0.2.1 persistent-4.5.1 pycparser-2.19 pyhacrf-datamade-0.2.3 pylbfgs-0.2.0.12 rlr-2.4.5 simplecosine-1.2 zope.index-5.0.0\n",
      "\u001b[33mYou are using pip version 18.0, however version 19.3.1 is available.\n",
      "You should consider upgrading via the 'pip install --upgrade pip' command.\u001b[0m\n"
     ]
    }
   ],
   "source": [
    "!pip install --user dedupe"
   ]
  },
  {
   "cell_type": "code",
   "execution_count": 2,
   "metadata": {},
   "outputs": [
    {
     "name": "stdout",
     "output_type": "stream",
     "text": [
      "Collecting pandas-dedupe\n",
      "  Using cached https://files.pythonhosted.org/packages/7b/6f/92e00381a57f3dc4af4a304e7bf5b74f1a918ae19c4d096ed982bf40f45c/pandas_dedupe-1.0.0-py3-none-any.whl\n",
      "Requirement already satisfied: dedupe in /home/oskar/.local/lib/python3.6/site-packages (from pandas-dedupe) (1.9.9)\n",
      "Requirement already satisfied: pandas in /home/oskar/.local/lib/python3.6/site-packages (from pandas-dedupe) (0.25.3)\n",
      "Requirement already satisfied: unidecode in /home/oskar/.local/lib/python3.6/site-packages (from pandas-dedupe) (1.1.1)\n",
      "Requirement already satisfied: fastcluster in /home/oskar/.local/lib/python3.6/site-packages (from dedupe->pandas-dedupe) (1.1.25)\n",
      "Requirement already satisfied: BTrees>=4.1.4 in /home/oskar/.local/lib/python3.6/site-packages (from dedupe->pandas-dedupe) (4.6.1)\n",
      "Requirement already satisfied: dedupe-variable-datetime in /home/oskar/.local/lib/python3.6/site-packages (from dedupe->pandas-dedupe) (0.1.5)\n",
      "Requirement already satisfied: haversine>=0.4.1 in /home/oskar/.local/lib/python3.6/site-packages (from dedupe->pandas-dedupe) (2.1.2)\n",
      "Requirement already satisfied: zope.index in /home/oskar/.local/lib/python3.6/site-packages (from dedupe->pandas-dedupe) (5.0.0)\n",
      "Requirement already satisfied: doublemetaphone in /home/oskar/.local/lib/python3.6/site-packages (from dedupe->pandas-dedupe) (0.1)\n",
      "Requirement already satisfied: Levenshtein-search in /home/oskar/.local/lib/python3.6/site-packages (from dedupe->pandas-dedupe) (1.4.4)\n",
      "Requirement already satisfied: future>=0.14 in /home/oskar/.local/lib/python3.6/site-packages (from dedupe->pandas-dedupe) (0.16.0)\n",
      "Requirement already satisfied: simplejson in /home/oskar/.local/lib/python3.6/site-packages (from dedupe->pandas-dedupe) (3.16.0)\n",
      "Requirement already satisfied: numpy>=1.13 in /home/oskar/.local/lib/python3.6/site-packages (from dedupe->pandas-dedupe) (1.17.4)\n",
      "Requirement already satisfied: simplecosine>=1.2 in /home/oskar/.local/lib/python3.6/site-packages (from dedupe->pandas-dedupe) (1.2)\n",
      "Requirement already satisfied: categorical-distance>=1.9 in /home/oskar/.local/lib/python3.6/site-packages (from dedupe->pandas-dedupe) (1.9)\n",
      "Requirement already satisfied: dedupe-hcluster in /home/oskar/.local/lib/python3.6/site-packages (from dedupe->pandas-dedupe) (0.3.6)\n",
      "Requirement already satisfied: highered>=0.2.0 in /home/oskar/.local/lib/python3.6/site-packages (from dedupe->pandas-dedupe) (0.2.1)\n",
      "Requirement already satisfied: rlr>=2.4.3 in /home/oskar/.local/lib/python3.6/site-packages (from dedupe->pandas-dedupe) (2.4.5)\n",
      "Requirement already satisfied: affinegap>=1.3 in /home/oskar/.local/lib/python3.6/site-packages (from dedupe->pandas-dedupe) (1.10)\n",
      "Requirement already satisfied: python-dateutil>=2.6.1 in /home/oskar/.local/lib/python3.6/site-packages (from pandas->pandas-dedupe) (2.7.3)\n",
      "Requirement already satisfied: pytz>=2017.2 in /home/oskar/.local/lib/python3.6/site-packages (from pandas->pandas-dedupe) (2019.1)\n",
      "Requirement already satisfied: persistent>=4.1.0 in /home/oskar/.local/lib/python3.6/site-packages (from BTrees>=4.1.4->dedupe->pandas-dedupe) (4.5.1)\n",
      "Requirement already satisfied: zope.interface in /home/oskar/.local/lib/python3.6/site-packages (from BTrees>=4.1.4->dedupe->pandas-dedupe) (4.5.0)\n",
      "Requirement already satisfied: datetime-distance in /home/oskar/.local/lib/python3.6/site-packages (from dedupe-variable-datetime->dedupe->pandas-dedupe) (0.1.3)\n",
      "Requirement already satisfied: setuptools in /home/oskar/.local/lib/python3.6/site-packages (from zope.index->dedupe->pandas-dedupe) (40.0.0)\n",
      "Requirement already satisfied: six in /home/oskar/.local/lib/python3.6/site-packages (from zope.index->dedupe->pandas-dedupe) (1.11.0)\n",
      "Requirement already satisfied: pyhacrf-datamade>=0.2.0 in /home/oskar/.local/lib/python3.6/site-packages (from highered>=0.2.0->dedupe->pandas-dedupe) (0.2.3)\n",
      "Requirement already satisfied: pylbfgs in /home/oskar/.local/lib/python3.6/site-packages (from rlr>=2.4.3->dedupe->pandas-dedupe) (0.2.0.12)\n",
      "Requirement already satisfied: cffi; platform_python_implementation == \"CPython\" in /home/oskar/.local/lib/python3.6/site-packages (from persistent>=4.1.0->BTrees>=4.1.4->dedupe->pandas-dedupe) (1.13.2)\n",
      "Requirement already satisfied: pycparser in /home/oskar/.local/lib/python3.6/site-packages (from cffi; platform_python_implementation == \"CPython\"->persistent>=4.1.0->BTrees>=4.1.4->dedupe->pandas-dedupe) (2.19)\n",
      "Installing collected packages: pandas-dedupe\n",
      "Successfully installed pandas-dedupe-1.0.0\n",
      "\u001b[33mYou are using pip version 18.0, however version 19.3.1 is available.\n",
      "You should consider upgrading via the 'pip install --upgrade pip' command.\u001b[0m\n"
     ]
    }
   ],
   "source": [
    "1!pip install --user pandas-dedupe"
   ]
  },
  {
   "cell_type": "code",
   "execution_count": 1,
   "metadata": {},
   "outputs": [
    {
     "name": "stdout",
     "output_type": "stream",
     "text": [
      "Collecting featuretools\n",
      "\u001b[?25l  Downloading https://files.pythonhosted.org/packages/a3/a2/a86e5a40c28bd5cb269a95016eea9fe7cc53484df26e33e7ea64d7271fcc/featuretools-0.13.0-py3-none-any.whl (240kB)\n",
      "\u001b[K    100% |████████████████████████████████| 245kB 14.5MB/s ta 0:00:01\n",
      "\u001b[?25hRequirement already satisfied, skipping upgrade: pandas>=0.24.1 in /home/oskar/.local/lib/python3.6/site-packages (from featuretools) (0.25.3)\n",
      "Requirement already satisfied, skipping upgrade: tqdm>=4.32.0 in /home/oskar/.local/lib/python3.6/site-packages (from featuretools) (4.39.0)\n",
      "Requirement already satisfied, skipping upgrade: pyyaml>=3.12 in /home/oskar/.local/lib/python3.6/site-packages (from featuretools) (5.1)\n",
      "Requirement already satisfied, skipping upgrade: dask>=1.1.0 in /home/oskar/.local/lib/python3.6/site-packages (from featuretools) (2.8.0)\n",
      "Requirement already satisfied, skipping upgrade: scikit-learn>=0.20.0 in /home/oskar/.local/lib/python3.6/site-packages (from featuretools) (0.21.2)\n",
      "Requirement already satisfied, skipping upgrade: scipy>=0.13.3 in /home/oskar/.local/lib/python3.6/site-packages (from featuretools) (1.1.0)\n",
      "Requirement already satisfied, skipping upgrade: distributed>=1.24.2 in /home/oskar/.local/lib/python3.6/site-packages (from featuretools) (2.8.0)\n",
      "Requirement already satisfied, skipping upgrade: cloudpickle>=0.4.0 in /home/oskar/.local/lib/python3.6/site-packages (from featuretools) (0.5.3)\n",
      "Collecting psutil>=5.4.8 (from featuretools)\n",
      "\u001b[?25l  Downloading https://files.pythonhosted.org/packages/73/93/4f8213fbe66fc20cb904f35e6e04e20b47b85bee39845cc66a0bcf5ccdcb/psutil-5.6.7.tar.gz (448kB)\n",
      "\u001b[K    100% |████████████████████████████████| 450kB 14.2MB/s ta 0:00:01\n",
      "\u001b[?25hRequirement already satisfied, skipping upgrade: numpy>=1.13.3 in /home/oskar/.local/lib/python3.6/site-packages (from featuretools) (1.17.4)\n",
      "Requirement already satisfied, skipping upgrade: click>=7.0.0 in /home/oskar/.local/lib/python3.6/site-packages (from featuretools) (7.0)\n",
      "Requirement already satisfied, skipping upgrade: pytz>=2017.2 in /home/oskar/.local/lib/python3.6/site-packages (from pandas>=0.24.1->featuretools) (2019.1)\n",
      "Requirement already satisfied, skipping upgrade: python-dateutil>=2.6.1 in /home/oskar/.local/lib/python3.6/site-packages (from pandas>=0.24.1->featuretools) (2.7.3)\n",
      "Requirement already satisfied, skipping upgrade: joblib>=0.11 in /home/oskar/.local/lib/python3.6/site-packages (from scikit-learn>=0.20.0->featuretools) (0.13.2)\n",
      "Requirement already satisfied, skipping upgrade: sortedcontainers!=2.0.0,!=2.0.1 in /home/oskar/.local/lib/python3.6/site-packages (from distributed>=1.24.2->featuretools) (2.1.0)\n",
      "Requirement already satisfied, skipping upgrade: msgpack in /home/oskar/.local/lib/python3.6/site-packages (from distributed>=1.24.2->featuretools) (0.6.2)\n",
      "Requirement already satisfied, skipping upgrade: toolz>=0.7.4 in /home/oskar/.local/lib/python3.6/site-packages (from distributed>=1.24.2->featuretools) (0.9.0)\n",
      "Requirement already satisfied, skipping upgrade: zict>=0.1.3 in /home/oskar/.local/lib/python3.6/site-packages (from distributed>=1.24.2->featuretools) (1.0.0)\n",
      "Requirement already satisfied, skipping upgrade: tblib in /home/oskar/.local/lib/python3.6/site-packages (from distributed>=1.24.2->featuretools) (1.5.0)\n",
      "Requirement already satisfied, skipping upgrade: tornado>=5 in /home/oskar/.local/lib/python3.6/site-packages (from distributed>=1.24.2->featuretools) (5.0.2)\n",
      "Requirement already satisfied, skipping upgrade: six>=1.5 in /home/oskar/.local/lib/python3.6/site-packages (from python-dateutil>=2.6.1->pandas>=0.24.1->featuretools) (1.11.0)\n",
      "Requirement already satisfied, skipping upgrade: heapdict in /home/oskar/.local/lib/python3.6/site-packages (from zict>=0.1.3->distributed>=1.24.2->featuretools) (1.0.1)\n",
      "Building wheels for collected packages: psutil\n",
      "  Running setup.py bdist_wheel for psutil ... \u001b[?25ldone\n",
      "\u001b[?25h  Stored in directory: /home/oskar/.cache/pip/wheels/52/41/b0/bf50409fe2b1d3b79afa3eed71b54b3e30fe5b695db2c7ba2e\n",
      "Successfully built psutil\n",
      "Installing collected packages: psutil, featuretools\n",
      "  Found existing installation: psutil 5.4.7\n",
      "    Uninstalling psutil-5.4.7:\n",
      "      Successfully uninstalled psutil-5.4.7\n",
      "Successfully installed featuretools-0.13.0 psutil-5.6.7\n",
      "\u001b[33mYou are using pip version 18.0, however version 19.3.1 is available.\n",
      "You should consider upgrading via the 'pip install --upgrade pip' command.\u001b[0m\n"
     ]
    }
   ],
   "source": [
    "!pip install -U --user featuretools"
   ]
  },
  {
   "cell_type": "code",
   "execution_count": 1,
   "metadata": {},
   "outputs": [],
   "source": [
    "## Updating"
   ]
  },
  {
   "cell_type": "code",
   "execution_count": 5,
   "metadata": {},
   "outputs": [
    {
     "name": "stdout",
     "output_type": "stream",
     "text": [
      "Requirement already up-to-date: numpy in /home/oskar/.local/lib/python3.6/site-packages (1.17.4)\n",
      "\u001b[33mYou are using pip version 18.0, however version 19.3.1 is available.\n",
      "You should consider upgrading via the 'pip install --upgrade pip' command.\u001b[0m\n"
     ]
    }
   ],
   "source": [
    "!pip install -U --user numpy"
   ]
  },
  {
   "cell_type": "code",
   "execution_count": 6,
   "metadata": {},
   "outputs": [
    {
     "name": "stdout",
     "output_type": "stream",
     "text": [
      "Collecting pandas\n",
      "\u001b[?25l  Downloading https://files.pythonhosted.org/packages/52/3f/f6a428599e0d4497e1595030965b5ba455fd8ade6e977e3c819973c4b41d/pandas-0.25.3-cp36-cp36m-manylinux1_x86_64.whl (10.4MB)\n",
      "\u001b[K    100% |████████████████████████████████| 10.4MB 914kB/s ta 0:00:01\n",
      "\u001b[?25hRequirement already satisfied, skipping upgrade: python-dateutil>=2.6.1 in /home/oskar/.local/lib/python3.6/site-packages (from pandas) (2.7.3)\n",
      "Requirement already satisfied, skipping upgrade: pytz>=2017.2 in /home/oskar/.local/lib/python3.6/site-packages (from pandas) (2019.1)\n",
      "Requirement already satisfied, skipping upgrade: numpy>=1.13.3 in /home/oskar/.local/lib/python3.6/site-packages (from pandas) (1.17.4)\n",
      "Requirement already satisfied, skipping upgrade: six>=1.5 in /home/oskar/.local/lib/python3.6/site-packages (from python-dateutil>=2.6.1->pandas) (1.11.0)\n",
      "\u001b[31mphik 0.9.8 has requirement matplotlib>=2.2.3, but you'll have matplotlib 2.2.2 which is incompatible.\u001b[0m\n",
      "Installing collected packages: pandas\n",
      "  Found existing installation: pandas 0.23.3\n",
      "    Uninstalling pandas-0.23.3:\n",
      "      Successfully uninstalled pandas-0.23.3\n",
      "Successfully installed pandas-0.25.3\n",
      "\u001b[33mYou are using pip version 18.0, however version 19.3.1 is available.\n",
      "You should consider upgrading via the 'pip install --upgrade pip' command.\u001b[0m\n"
     ]
    }
   ],
   "source": [
    "!pip install -U --user pandas"
   ]
  },
  {
   "cell_type": "code",
   "execution_count": 7,
   "metadata": {},
   "outputs": [
    {
     "name": "stdout",
     "output_type": "stream",
     "text": [
      "Collecting dask[complete]\n",
      "  Using cached https://files.pythonhosted.org/packages/16/c6/d833bb656823031161f7fa085050dafc0f11949334a3c34d4a9392c54f46/dask-2.8.0-py3-none-any.whl\n",
      "Collecting partd>=0.3.10; extra == \"complete\" (from dask[complete])\n",
      "  Downloading https://files.pythonhosted.org/packages/8b/17/09c352519da1db31634979c3aa9126078e9ece0f561c5f641e0649b78905/partd-1.0.0-py2.py3-none-any.whl\n",
      "Collecting bokeh>=1.0.0; extra == \"complete\" (from dask[complete])\n",
      "\u001b[?25l  Downloading https://files.pythonhosted.org/packages/de/70/fdd4b186d8570a737372487cc5547aac885a1270626e3ebf03db1808e4ed/bokeh-1.4.0.tar.gz (32.4MB)\n",
      "\u001b[K    100% |████████████████████████████████| 32.4MB 289kB/s ta 0:00:01   11% |███▉                            | 3.9MB 1.8MB/s eta 0:00:16    54% |█████████████████▎              | 17.5MB 698kB/s eta 0:00:22    80% |█████████████████████████▊      | 26.1MB 568kB/s eta 0:00:12\n",
      "\u001b[?25hRequirement already satisfied, skipping upgrade: toolz>=0.7.3; extra == \"complete\" in /home/oskar/.local/lib/python3.6/site-packages (from dask[complete]) (0.9.0)\n",
      "Collecting fsspec>=0.6.0; extra == \"complete\" (from dask[complete])\n",
      "\u001b[?25l  Downloading https://files.pythonhosted.org/packages/4f/d9/40c970ef234cd3054c9cd6c087b92f24ea5b1209c87dcb931e28a72dbc29/fsspec-0.6.0-py3-none-any.whl (61kB)\n",
      "\u001b[K    100% |████████████████████████████████| 71kB 477kB/s ta 0:00:01\n",
      "\u001b[?25hRequirement already satisfied, skipping upgrade: PyYaml; extra == \"complete\" in /home/oskar/.local/lib/python3.6/site-packages (from dask[complete]) (5.1)\n",
      "Collecting distributed>=2.0; extra == \"complete\" (from dask[complete])\n",
      "\u001b[?25l  Downloading https://files.pythonhosted.org/packages/4e/90/9f4f4c8a21818666d85dfe1b1f267776788929749cf6c49bad087cb94679/distributed-2.8.0-py3-none-any.whl (567kB)\n",
      "\u001b[K    100% |████████████████████████████████| 573kB 584kB/s ta 0:00:01\n",
      "\u001b[?25hRequirement already satisfied, skipping upgrade: numpy>=1.13.0; extra == \"complete\" in /home/oskar/.local/lib/python3.6/site-packages (from dask[complete]) (1.17.4)\n",
      "Requirement already satisfied, skipping upgrade: cloudpickle>=0.2.1; extra == \"complete\" in /home/oskar/.local/lib/python3.6/site-packages (from dask[complete]) (0.5.3)\n",
      "Requirement already satisfied, skipping upgrade: pandas>=0.21.0; extra == \"complete\" in /home/oskar/.local/lib/python3.6/site-packages (from dask[complete]) (0.25.3)\n",
      "Collecting locket (from partd>=0.3.10; extra == \"complete\"->dask[complete])\n",
      "Requirement already satisfied, skipping upgrade: six>=1.5.2 in /home/oskar/.local/lib/python3.6/site-packages (from bokeh>=1.0.0; extra == \"complete\"->dask[complete]) (1.11.0)\n",
      "Requirement already satisfied, skipping upgrade: python-dateutil>=2.1 in /home/oskar/.local/lib/python3.6/site-packages (from bokeh>=1.0.0; extra == \"complete\"->dask[complete]) (2.7.3)\n",
      "Requirement already satisfied, skipping upgrade: Jinja2>=2.7 in /home/oskar/.local/lib/python3.6/site-packages (from bokeh>=1.0.0; extra == \"complete\"->dask[complete]) (2.10)\n",
      "Requirement already satisfied, skipping upgrade: pillow>=4.0 in /usr/lib/python3/dist-packages (from bokeh>=1.0.0; extra == \"complete\"->dask[complete]) (5.1.0)\n",
      "Requirement already satisfied, skipping upgrade: packaging>=16.8 in /home/oskar/.local/lib/python3.6/site-packages (from bokeh>=1.0.0; extra == \"complete\"->dask[complete]) (17.1)\n",
      "Requirement already satisfied, skipping upgrade: tornado>=4.3 in /home/oskar/.local/lib/python3.6/site-packages (from bokeh>=1.0.0; extra == \"complete\"->dask[complete]) (5.0.2)\n",
      "Collecting msgpack (from distributed>=2.0; extra == \"complete\"->dask[complete])\n",
      "\u001b[?25l  Downloading https://files.pythonhosted.org/packages/3d/a8/e01fea81691749044a7bfd44536483a296d9c0a7ed4ec8810a229435547c/msgpack-0.6.2-cp36-cp36m-manylinux1_x86_64.whl (249kB)\n",
      "\u001b[K    100% |████████████████████████████████| 256kB 949kB/s ta 0:00:01\n",
      "\u001b[?25hCollecting tblib (from distributed>=2.0; extra == \"complete\"->dask[complete])\n",
      "  Downloading https://files.pythonhosted.org/packages/6d/b1/32dd1c3e6f68856d9596abc649eae40ca914192b3f0f39fce91cf6747d90/tblib-1.5.0-py2.py3-none-any.whl\n",
      "Collecting zict>=0.1.3 (from distributed>=2.0; extra == \"complete\"->dask[complete])\n",
      "  Downloading https://files.pythonhosted.org/packages/64/b4/a904be4184814adb9dfc2e679c4e611392080a32726a657a34cab93b38c2/zict-1.0.0-py2.py3-none-any.whl\n",
      "Collecting sortedcontainers!=2.0.0,!=2.0.1 (from distributed>=2.0; extra == \"complete\"->dask[complete])\n",
      "  Downloading https://files.pythonhosted.org/packages/13/f3/cf85f7c3a2dbd1a515d51e1f1676d971abe41bba6f4ab5443240d9a78e5b/sortedcontainers-2.1.0-py2.py3-none-any.whl\n",
      "Requirement already satisfied, skipping upgrade: psutil>=5.0 in /home/oskar/.local/lib/python3.6/site-packages (from distributed>=2.0; extra == \"complete\"->dask[complete]) (5.4.7)\n",
      "Requirement already satisfied, skipping upgrade: click>=6.6 in /home/oskar/.local/lib/python3.6/site-packages (from distributed>=2.0; extra == \"complete\"->dask[complete]) (7.0)\n",
      "Requirement already satisfied, skipping upgrade: pytz>=2017.2 in /home/oskar/.local/lib/python3.6/site-packages (from pandas>=0.21.0; extra == \"complete\"->dask[complete]) (2019.1)\n",
      "Requirement already satisfied, skipping upgrade: MarkupSafe>=0.23 in /home/oskar/.local/lib/python3.6/site-packages (from Jinja2>=2.7->bokeh>=1.0.0; extra == \"complete\"->dask[complete]) (1.0)\n",
      "Requirement already satisfied, skipping upgrade: pyparsing>=2.0.2 in /home/oskar/.local/lib/python3.6/site-packages (from packaging>=16.8->bokeh>=1.0.0; extra == \"complete\"->dask[complete]) (2.2.0)\n",
      "Collecting heapdict (from zict>=0.1.3->distributed>=2.0; extra == \"complete\"->dask[complete])\n",
      "  Downloading https://files.pythonhosted.org/packages/b6/9d/cd4777dbcf3bef9d9627e0fe4bc43d2e294b1baeb01d0422399d5e9de319/HeapDict-1.0.1-py3-none-any.whl\n",
      "Building wheels for collected packages: bokeh\n",
      "  Running setup.py bdist_wheel for bokeh ... \u001b[?25ldone\n",
      "\u001b[?25h  Stored in directory: /home/oskar/.cache/pip/wheels/fb/f8/47/09700d9a19cbcbf0b7a3130690b75c0d6ff80fbda0b1774c7c\n",
      "Successfully built bokeh\n",
      "Installing collected packages: locket, partd, bokeh, fsspec, msgpack, tblib, heapdict, zict, sortedcontainers, distributed, dask\n",
      "Successfully installed bokeh-1.4.0 dask-2.8.0 distributed-2.8.0 fsspec-0.6.0 heapdict-1.0.1 locket-0.2.0 msgpack-0.6.2 partd-1.0.0 sortedcontainers-2.1.0 tblib-1.5.0 zict-1.0.0\n",
      "\u001b[33mYou are using pip version 18.0, however version 19.3.1 is available.\n",
      "You should consider upgrading via the 'pip install --upgrade pip' command.\u001b[0m\n"
     ]
    }
   ],
   "source": [
    "!pip install -U --user \"dask[complete]\" "
   ]
  },
  {
   "cell_type": "code",
   "execution_count": 8,
   "metadata": {},
   "outputs": [
    {
     "name": "stdout",
     "output_type": "stream",
     "text": [
      "Collecting pandas-profiling\n",
      "\u001b[?25l  Downloading https://files.pythonhosted.org/packages/2c/2f/aae19e2173c10a9bb7fee5f5cad35dbe53a393960fc91abc477dcc4661e8/pandas-profiling-2.3.0.tar.gz (127kB)\n",
      "\u001b[K    100% |████████████████████████████████| 133kB 1.3MB/s ta 0:00:01\n",
      "\u001b[?25hRequirement already satisfied, skipping upgrade: pandas>=0.19 in /home/oskar/.local/lib/python3.6/site-packages (from pandas-profiling) (0.25.3)\n",
      "Requirement already satisfied, skipping upgrade: matplotlib>=1.4 in /home/oskar/.local/lib/python3.6/site-packages (from pandas-profiling) (2.2.2)\n",
      "Requirement already satisfied, skipping upgrade: jinja2>=2.8 in /home/oskar/.local/lib/python3.6/site-packages (from pandas-profiling) (2.10)\n",
      "Requirement already satisfied, skipping upgrade: missingno>=0.4.2 in /home/oskar/.local/lib/python3.6/site-packages (from pandas-profiling) (0.4.2)\n",
      "Requirement already satisfied, skipping upgrade: htmlmin>=0.1.12 in /home/oskar/.local/lib/python3.6/site-packages (from pandas-profiling) (0.1.12)\n",
      "Requirement already satisfied, skipping upgrade: phik>=0.9.8 in /home/oskar/.local/lib/python3.6/site-packages (from pandas-profiling) (0.9.8)\n",
      "Requirement already satisfied, skipping upgrade: confuse>=1.0.0 in /home/oskar/.local/lib/python3.6/site-packages (from pandas-profiling) (1.0.0)\n",
      "Requirement already satisfied, skipping upgrade: astropy in /home/oskar/.local/lib/python3.6/site-packages (from pandas-profiling) (3.2.1)\n",
      "Requirement already satisfied, skipping upgrade: numpy>=1.13.3 in /home/oskar/.local/lib/python3.6/site-packages (from pandas>=0.19->pandas-profiling) (1.17.4)\n",
      "Requirement already satisfied, skipping upgrade: python-dateutil>=2.6.1 in /home/oskar/.local/lib/python3.6/site-packages (from pandas>=0.19->pandas-profiling) (2.7.3)\n",
      "Requirement already satisfied, skipping upgrade: pytz>=2017.2 in /home/oskar/.local/lib/python3.6/site-packages (from pandas>=0.19->pandas-profiling) (2019.1)\n",
      "Requirement already satisfied, skipping upgrade: kiwisolver>=1.0.1 in /home/oskar/.local/lib/python3.6/site-packages (from matplotlib>=1.4->pandas-profiling) (1.0.1)\n",
      "Requirement already satisfied, skipping upgrade: cycler>=0.10 in /home/oskar/.local/lib/python3.6/site-packages (from matplotlib>=1.4->pandas-profiling) (0.10.0)\n",
      "Requirement already satisfied, skipping upgrade: pyparsing!=2.0.4,!=2.1.2,!=2.1.6,>=2.0.1 in /home/oskar/.local/lib/python3.6/site-packages (from matplotlib>=1.4->pandas-profiling) (2.2.0)\n",
      "Requirement already satisfied, skipping upgrade: six>=1.10 in /home/oskar/.local/lib/python3.6/site-packages (from matplotlib>=1.4->pandas-profiling) (1.11.0)\n",
      "Requirement already satisfied, skipping upgrade: MarkupSafe>=0.23 in /home/oskar/.local/lib/python3.6/site-packages (from jinja2>=2.8->pandas-profiling) (1.0)\n",
      "Requirement already satisfied, skipping upgrade: seaborn in /usr/local/lib/python3.6/dist-packages (from missingno>=0.4.2->pandas-profiling) (0.8.1)\n",
      "Requirement already satisfied, skipping upgrade: scipy in /home/oskar/.local/lib/python3.6/site-packages (from missingno>=0.4.2->pandas-profiling) (1.1.0)\n",
      "Requirement already satisfied, skipping upgrade: numba>=0.38.1 in /home/oskar/.local/lib/python3.6/site-packages (from phik>=0.9.8->pandas-profiling) (0.45.0)\n",
      "Requirement already satisfied, skipping upgrade: pytest>=4.0.2 in /home/oskar/.local/lib/python3.6/site-packages (from phik>=0.9.8->pandas-profiling) (5.0.1)\n",
      "Requirement already satisfied, skipping upgrade: jupyter-client>=5.2.3 in /home/oskar/.local/lib/python3.6/site-packages (from phik>=0.9.8->pandas-profiling) (5.2.3)\n",
      "Requirement already satisfied, skipping upgrade: pytest-pylint>=0.13.0 in /home/oskar/.local/lib/python3.6/site-packages (from phik>=0.9.8->pandas-profiling) (0.14.1)\n",
      "Requirement already satisfied, skipping upgrade: nbconvert>=5.3.1 in /home/oskar/.local/lib/python3.6/site-packages (from phik>=0.9.8->pandas-profiling) (5.3.1)\n",
      "Requirement already satisfied, skipping upgrade: pyyaml in /home/oskar/.local/lib/python3.6/site-packages (from confuse>=1.0.0->pandas-profiling) (5.1)\n",
      "Requirement already satisfied, skipping upgrade: setuptools in /home/oskar/.local/lib/python3.6/site-packages (from kiwisolver>=1.0.1->matplotlib>=1.4->pandas-profiling) (40.0.0)\n",
      "Requirement already satisfied, skipping upgrade: llvmlite>=0.29.0dev0 in /home/oskar/.local/lib/python3.6/site-packages (from numba>=0.38.1->phik>=0.9.8->pandas-profiling) (0.29.0)\n",
      "Requirement already satisfied, skipping upgrade: importlib-metadata>=0.12 in /home/oskar/.local/lib/python3.6/site-packages (from pytest>=4.0.2->phik>=0.9.8->pandas-profiling) (0.18)\n",
      "Requirement already satisfied, skipping upgrade: atomicwrites>=1.0 in /home/oskar/.local/lib/python3.6/site-packages (from pytest>=4.0.2->phik>=0.9.8->pandas-profiling) (1.3.0)\n",
      "Requirement already satisfied, skipping upgrade: wcwidth in /home/oskar/.local/lib/python3.6/site-packages (from pytest>=4.0.2->phik>=0.9.8->pandas-profiling) (0.1.7)\n",
      "Requirement already satisfied, skipping upgrade: attrs>=17.4.0 in /home/oskar/.local/lib/python3.6/site-packages (from pytest>=4.0.2->phik>=0.9.8->pandas-profiling) (18.1.0)\n",
      "Requirement already satisfied, skipping upgrade: more-itertools>=4.0.0 in /home/oskar/.local/lib/python3.6/site-packages (from pytest>=4.0.2->phik>=0.9.8->pandas-profiling) (7.2.0)\n",
      "Requirement already satisfied, skipping upgrade: packaging in /home/oskar/.local/lib/python3.6/site-packages (from pytest>=4.0.2->phik>=0.9.8->pandas-profiling) (17.1)\n",
      "Requirement already satisfied, skipping upgrade: py>=1.5.0 in /home/oskar/.local/lib/python3.6/site-packages (from pytest>=4.0.2->phik>=0.9.8->pandas-profiling) (1.8.0)\n",
      "Requirement already satisfied, skipping upgrade: pluggy<1.0,>=0.12 in /home/oskar/.local/lib/python3.6/site-packages (from pytest>=4.0.2->phik>=0.9.8->pandas-profiling) (0.12.0)\n",
      "Requirement already satisfied, skipping upgrade: pyzmq>=13 in /home/oskar/.local/lib/python3.6/site-packages (from jupyter-client>=5.2.3->phik>=0.9.8->pandas-profiling) (17.0.0)\n",
      "Requirement already satisfied, skipping upgrade: jupyter-core in /home/oskar/.local/lib/python3.6/site-packages (from jupyter-client>=5.2.3->phik>=0.9.8->pandas-profiling) (4.4.0)\n",
      "Requirement already satisfied, skipping upgrade: traitlets in /home/oskar/.local/lib/python3.6/site-packages (from jupyter-client>=5.2.3->phik>=0.9.8->pandas-profiling) (4.3.2)\n",
      "Requirement already satisfied, skipping upgrade: tornado>=4.1 in /home/oskar/.local/lib/python3.6/site-packages (from jupyter-client>=5.2.3->phik>=0.9.8->pandas-profiling) (5.0.2)\n",
      "Requirement already satisfied, skipping upgrade: pylint>=1.4.5 in /home/oskar/.local/lib/python3.6/site-packages (from pytest-pylint>=0.13.0->phik>=0.9.8->pandas-profiling) (2.2.2)\n",
      "Requirement already satisfied, skipping upgrade: nbformat>=4.4 in /home/oskar/.local/lib/python3.6/site-packages (from nbconvert>=5.3.1->phik>=0.9.8->pandas-profiling) (4.4.0)\n",
      "Requirement already satisfied, skipping upgrade: entrypoints>=0.2.2 in /home/oskar/.local/lib/python3.6/site-packages (from nbconvert>=5.3.1->phik>=0.9.8->pandas-profiling) (0.2.3)\n",
      "Requirement already satisfied, skipping upgrade: pandocfilters>=1.4.1 in /home/oskar/.local/lib/python3.6/site-packages (from nbconvert>=5.3.1->phik>=0.9.8->pandas-profiling) (1.4.2)\n",
      "Requirement already satisfied, skipping upgrade: testpath in /home/oskar/.local/lib/python3.6/site-packages (from nbconvert>=5.3.1->phik>=0.9.8->pandas-profiling) (0.3.1)\n",
      "Requirement already satisfied, skipping upgrade: bleach in /home/oskar/.local/lib/python3.6/site-packages (from nbconvert>=5.3.1->phik>=0.9.8->pandas-profiling) (2.1.3)\n",
      "Requirement already satisfied, skipping upgrade: pygments in /home/oskar/.local/lib/python3.6/site-packages (from nbconvert>=5.3.1->phik>=0.9.8->pandas-profiling) (2.2.0)\n",
      "Requirement already satisfied, skipping upgrade: mistune>=0.7.4 in /home/oskar/.local/lib/python3.6/site-packages (from nbconvert>=5.3.1->phik>=0.9.8->pandas-profiling) (0.8.3)\n",
      "Requirement already satisfied, skipping upgrade: zipp>=0.5 in /home/oskar/.local/lib/python3.6/site-packages (from importlib-metadata>=0.12->pytest>=4.0.2->phik>=0.9.8->pandas-profiling) (0.5.2)\n",
      "Requirement already satisfied, skipping upgrade: ipython-genutils in /home/oskar/.local/lib/python3.6/site-packages (from traitlets->jupyter-client>=5.2.3->phik>=0.9.8->pandas-profiling) (0.2.0)\n",
      "Requirement already satisfied, skipping upgrade: decorator in /home/oskar/.local/lib/python3.6/site-packages (from traitlets->jupyter-client>=5.2.3->phik>=0.9.8->pandas-profiling) (4.3.0)\n",
      "Requirement already satisfied, skipping upgrade: isort>=4.2.5 in /home/oskar/.local/lib/python3.6/site-packages (from pylint>=1.4.5->pytest-pylint>=0.13.0->phik>=0.9.8->pandas-profiling) (4.3.4)\n",
      "Requirement already satisfied, skipping upgrade: mccabe in /home/oskar/.local/lib/python3.6/site-packages (from pylint>=1.4.5->pytest-pylint>=0.13.0->phik>=0.9.8->pandas-profiling) (0.6.1)\n",
      "Requirement already satisfied, skipping upgrade: astroid>=2.0.0 in /home/oskar/.local/lib/python3.6/site-packages (from pylint>=1.4.5->pytest-pylint>=0.13.0->phik>=0.9.8->pandas-profiling) (2.1.0)\n",
      "Requirement already satisfied, skipping upgrade: jsonschema!=2.5.0,>=2.4 in /home/oskar/.local/lib/python3.6/site-packages (from nbformat>=4.4->nbconvert>=5.3.1->phik>=0.9.8->pandas-profiling) (2.6.0)\n",
      "Requirement already satisfied, skipping upgrade: html5lib!=1.0b1,!=1.0b2,!=1.0b3,!=1.0b4,!=1.0b5,!=1.0b6,!=1.0b7,!=1.0b8,>=0.99999999pre in /home/oskar/.local/lib/python3.6/site-packages (from bleach->nbconvert>=5.3.1->phik>=0.9.8->pandas-profiling) (1.0.1)\n"
     ]
    },
    {
     "name": "stdout",
     "output_type": "stream",
     "text": [
      "Requirement already satisfied, skipping upgrade: lazy-object-proxy in /home/oskar/.local/lib/python3.6/site-packages (from astroid>=2.0.0->pylint>=1.4.5->pytest-pylint>=0.13.0->phik>=0.9.8->pandas-profiling) (1.3.1)\n",
      "Requirement already satisfied, skipping upgrade: typed-ast; python_version < \"3.7\" and implementation_name == \"cpython\" in /home/oskar/.local/lib/python3.6/site-packages (from astroid>=2.0.0->pylint>=1.4.5->pytest-pylint>=0.13.0->phik>=0.9.8->pandas-profiling) (1.3.1)\n",
      "Requirement already satisfied, skipping upgrade: wrapt in /home/oskar/.local/lib/python3.6/site-packages (from astroid>=2.0.0->pylint>=1.4.5->pytest-pylint>=0.13.0->phik>=0.9.8->pandas-profiling) (1.10.11)\n",
      "Requirement already satisfied, skipping upgrade: webencodings in /home/oskar/.local/lib/python3.6/site-packages (from html5lib!=1.0b1,!=1.0b2,!=1.0b3,!=1.0b4,!=1.0b5,!=1.0b6,!=1.0b7,!=1.0b8,>=0.99999999pre->bleach->nbconvert>=5.3.1->phik>=0.9.8->pandas-profiling) (0.5.1)\n",
      "Building wheels for collected packages: pandas-profiling\n",
      "  Running setup.py bdist_wheel for pandas-profiling ... \u001b[?25ldone\n",
      "\u001b[?25h  Stored in directory: /home/oskar/.cache/pip/wheels/ce/c7/f1/dbfef4848ebb048cb1d4a22d1ed0c62d8ff2523747235e19fe\n",
      "Successfully built pandas-profiling\n",
      "Installing collected packages: pandas-profiling\n",
      "  Found existing installation: pandas-profiling 2.2.0\n",
      "    Uninstalling pandas-profiling-2.2.0:\n",
      "      Successfully uninstalled pandas-profiling-2.2.0\n",
      "Successfully installed pandas-profiling-2.3.0\n",
      "\u001b[33mYou are using pip version 18.0, however version 19.3.1 is available.\n",
      "You should consider upgrading via the 'pip install --upgrade pip' command.\u001b[0m\n"
     ]
    }
   ],
   "source": [
    "!pip install -U --user pandas-profiling"
   ]
  },
  {
   "cell_type": "code",
   "execution_count": 1,
   "metadata": {},
   "outputs": [
    {
     "name": "stdout",
     "output_type": "stream",
     "text": [
      "Requirement already up-to-date: pandasql in /home/oskar/.local/lib/python3.6/site-packages (0.7.3)\n",
      "Requirement already satisfied, skipping upgrade: numpy in /home/oskar/.local/lib/python3.6/site-packages (from pandasql) (1.17.4)\n",
      "Requirement already satisfied, skipping upgrade: pandas in /home/oskar/.local/lib/python3.6/site-packages (from pandasql) (0.25.3)\n",
      "Requirement already satisfied, skipping upgrade: sqlalchemy in /home/oskar/.local/lib/python3.6/site-packages (from pandasql) (1.3.6)\n",
      "Requirement already satisfied, skipping upgrade: pytz>=2017.2 in /home/oskar/.local/lib/python3.6/site-packages (from pandas->pandasql) (2019.1)\n",
      "Requirement already satisfied, skipping upgrade: python-dateutil>=2.6.1 in /home/oskar/.local/lib/python3.6/site-packages (from pandas->pandasql) (2.7.3)\n",
      "Requirement already satisfied, skipping upgrade: six>=1.5 in /home/oskar/.local/lib/python3.6/site-packages (from python-dateutil>=2.6.1->pandas->pandasql) (1.11.0)\n",
      "\u001b[33mYou are using pip version 18.0, however version 19.3.1 is available.\n",
      "You should consider upgrading via the 'pip install --upgrade pip' command.\u001b[0m\n"
     ]
    }
   ],
   "source": [
    "!pip install -U --user pandasql"
   ]
  },
  {
   "cell_type": "code",
   "execution_count": 1,
   "metadata": {},
   "outputs": [
    {
     "name": "stdout",
     "output_type": "stream",
     "text": [
      "Collecting tqdm\n",
      "\u001b[?25l  Downloading https://files.pythonhosted.org/packages/bb/62/6f823501b3bf2bac242bd3c320b592ad1516b3081d82c77c1d813f076856/tqdm-4.39.0-py2.py3-none-any.whl (53kB)\n",
      "\u001b[K    100% |████████████████████████████████| 61kB 1.2MB/s ta 0:00:011\n",
      "\u001b[31mrasa-core 0.9.6 has requirement scikit-learn~=0.19.0, but you'll have scikit-learn 0.21.2 which is incompatible.\u001b[0m\n",
      "\u001b[?25hInstalling collected packages: tqdm\n",
      "  Found existing installation: tqdm 4.32.2\n",
      "    Uninstalling tqdm-4.32.2:\n",
      "      Successfully uninstalled tqdm-4.32.2\n",
      "Successfully installed tqdm-4.39.0\n",
      "\u001b[33mYou are using pip version 18.0, however version 19.3.1 is available.\n",
      "You should consider upgrading via the 'pip install --upgrade pip' command.\u001b[0m\n"
     ]
    }
   ],
   "source": [
    "!pip install -U --user tqdm"
   ]
  },
  {
   "cell_type": "code",
   "execution_count": 3,
   "metadata": {},
   "outputs": [
    {
     "name": "stdout",
     "output_type": "stream",
     "text": [
      "Collecting Pydap\n",
      "  Using cached https://files.pythonhosted.org/packages/9e/ad/01367f79b24015e223dd7679e4c9b16a6792fe5a9772e45e5f81b2c4a021/Pydap-3.2.2-py3-none-any.whl\n",
      "Requirement already satisfied: beautifulsoup4 in /home/oskar/.local/lib/python3.6/site-packages (from Pydap) (4.6.3)\n",
      "Collecting Webob (from Pydap)\n",
      "  Using cached https://files.pythonhosted.org/packages/06/e1/4acd2b4327fceb4c6446bdbca515f807ab83188526fd654940c00bcf8cc3/WebOb-1.8.5-py2.py3-none-any.whl\n",
      "Requirement already satisfied: numpy in /home/oskar/.local/lib/python3.6/site-packages (from Pydap) (1.17.4)\n",
      "Requirement already satisfied: docopt in /home/oskar/.local/lib/python3.6/site-packages (from Pydap) (0.6.2)\n",
      "Requirement already satisfied: Jinja2 in /home/oskar/.local/lib/python3.6/site-packages (from Pydap) (2.10)\n",
      "Requirement already satisfied: six>=1.4.0 in /home/oskar/.local/lib/python3.6/site-packages (from Pydap) (1.11.0)\n",
      "Requirement already satisfied: MarkupSafe>=0.23 in /home/oskar/.local/lib/python3.6/site-packages (from Jinja2->Pydap) (1.0)\n",
      "Installing collected packages: Webob, Pydap\n",
      "Successfully installed Pydap-3.2.2 Webob-1.8.5\n",
      "\u001b[33mYou are using pip version 18.0, however version 19.3.1 is available.\n",
      "You should consider upgrading via the 'pip install --upgrade pip' command.\u001b[0m\n"
     ]
    }
   ],
   "source": [
    "!pip install --user Pydap"
   ]
  },
  {
   "cell_type": "code",
   "execution_count": 5,
   "metadata": {},
   "outputs": [
    {
     "name": "stdout",
     "output_type": "stream",
     "text": [
      "Collecting testresources\n",
      "  Downloading https://files.pythonhosted.org/packages/45/4d/79a9a1f71de22fbc6c6433ac135f68d005de72fbe73e2137d2e77da9252c/testresources-2.0.1-py2.py3-none-any.whl\n",
      "Collecting pbr>=1.8 (from testresources)\n",
      "\u001b[?25l  Downloading https://files.pythonhosted.org/packages/7a/db/a968fd7beb9fe06901c1841cb25c9ccb666ca1b9a19b114d1bbedf1126fc/pbr-5.4.4-py2.py3-none-any.whl (110kB)\n",
      "\u001b[K    100% |████████████████████████████████| 112kB 1.4MB/s ta 0:00:01\n",
      "\u001b[?25hInstalling collected packages: pbr, testresources\n",
      "Successfully installed pbr-5.4.4 testresources-2.0.1\n",
      "\u001b[33mYou are using pip version 18.0, however version 19.3.1 is available.\n",
      "You should consider upgrading via the 'pip install --upgrade pip' command.\u001b[0m\n"
     ]
    }
   ],
   "source": [
    "!pip install --user noaa-sdk\n",
    "!pip install --user testresources"
   ]
  },
  {
   "cell_type": "code",
   "execution_count": 1,
   "metadata": {},
   "outputs": [
    {
     "name": "stdout",
     "output_type": "stream",
     "text": [
      "Collecting pywaffle\n",
      "\u001b[?25l  Downloading https://files.pythonhosted.org/packages/a3/23/45e4084c3ddc0b1d6c10fd3cfb5d74a19c8d20d664e9a5760efbf2661b3d/pywaffle-0.4.1-py2.py3-none-any.whl (524kB)\n",
      "\u001b[K    100% |████████████████████████████████| 532kB 3.1MB/s ta 0:00:011\n",
      "\u001b[?25hRequirement already satisfied, skipping upgrade: matplotlib in /home/oskar/.local/lib/python3.6/site-packages (from pywaffle) (2.2.2)\n",
      "Requirement already satisfied, skipping upgrade: python-dateutil>=2.1 in /home/oskar/.local/lib/python3.6/site-packages (from matplotlib->pywaffle) (2.7.3)\n",
      "Requirement already satisfied, skipping upgrade: kiwisolver>=1.0.1 in /home/oskar/.local/lib/python3.6/site-packages (from matplotlib->pywaffle) (1.0.1)\n",
      "Requirement already satisfied, skipping upgrade: cycler>=0.10 in /home/oskar/.local/lib/python3.6/site-packages (from matplotlib->pywaffle) (0.10.0)\n",
      "Requirement already satisfied, skipping upgrade: six>=1.10 in /home/oskar/.local/lib/python3.6/site-packages (from matplotlib->pywaffle) (1.11.0)\n",
      "Requirement already satisfied, skipping upgrade: pyparsing!=2.0.4,!=2.1.2,!=2.1.6,>=2.0.1 in /home/oskar/.local/lib/python3.6/site-packages (from matplotlib->pywaffle) (2.2.0)\n",
      "Requirement already satisfied, skipping upgrade: numpy>=1.7.1 in /home/oskar/.local/lib/python3.6/site-packages (from matplotlib->pywaffle) (1.17.4)\n",
      "Requirement already satisfied, skipping upgrade: pytz in /home/oskar/.local/lib/python3.6/site-packages (from matplotlib->pywaffle) (2019.1)\n",
      "Requirement already satisfied, skipping upgrade: setuptools in /home/oskar/.local/lib/python3.6/site-packages (from kiwisolver>=1.0.1->matplotlib->pywaffle) (40.0.0)\n",
      "Installing collected packages: pywaffle\n",
      "  Found existing installation: pywaffle 0.0.9\n",
      "    Uninstalling pywaffle-0.0.9:\n",
      "      Successfully uninstalled pywaffle-0.0.9\n",
      "Successfully installed pywaffle-0.4.1\n",
      "\u001b[33mYou are using pip version 18.0, however version 19.3.1 is available.\n",
      "You should consider upgrading via the 'pip install --upgrade pip' command.\u001b[0m\n"
     ]
    }
   ],
   "source": [
    "!pip install --user -U pywaffle"
   ]
  }
 ],
 "metadata": {
  "kernelspec": {
   "display_name": "Python 3",
   "language": "python",
   "name": "python3"
  },
  "language_info": {
   "codemirror_mode": {
    "name": "ipython",
    "version": 3
   },
   "file_extension": ".py",
   "mimetype": "text/x-python",
   "name": "python",
   "nbconvert_exporter": "python",
   "pygments_lexer": "ipython3",
   "version": "3.6.8"
  }
 },
 "nbformat": 4,
 "nbformat_minor": 2
}
